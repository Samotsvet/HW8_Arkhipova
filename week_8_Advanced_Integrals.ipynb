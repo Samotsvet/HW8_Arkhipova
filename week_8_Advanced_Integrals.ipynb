{
 "cells": [
  {
   "cell_type": "markdown",
   "metadata": {},
   "source": [
    "## Часть 1. Гауссовы квадратуры\n",
    "\n",
    "Метод Гауссовых квадратур является одним из методов численного интегрирования, который позволяет увеличить точность интегрирования, используя ортогональные полиномы и их корни в качестве узлов.\n",
    "\n",
    "$$\n",
    "\\int_a^b \\!  w(x)\\, f(x)\\, dx \\approx \\sum_{k=1}^n w_k \\, f(x_k) \\;,\n",
    "$$\n",
    "\n",
    "здесь $\\omega$ - функция весов, которая определят базис ортогональных полиномов, чьи корни используются в качестве узлов интегрирования. Если функция $f(x)$ является полиномом, тогда такой метод интегрирования даст *точное* решение интеграла."
   ]
  },
  {
   "cell_type": "markdown",
   "metadata": {},
   "source": [
    "Например, давайте посчитаем следующий интеграл:\n",
    "\n",
    "$$\n",
    "\\int_{-1}^1 (7x^3 - 8 x^2 - 3 x + 3) dx  \\label{eq1}\\tag{1}\n",
    "$$\n",
    "\n",
    "Здесь функция уже полиномиальна, поэтому возьмем весовую функцию $\\omega(x) = 1$. Тогда вычисление интеграла сводится к сумме корней полинома, соответствующих весовой функции $\\omega(x) = 1$. Например, здесь https://dlmf.nist.gov/18.3 вы можете увидеть, какой базис полиномов соответствует вашей весовой функции.\n",
    "\n",
    "Заметим, что нашей соответствуют полиномы Лежандра. Теперь, зайдем в документацию https://docs.scipy.org/doc/scipy/reference/special.html#orthogonal-polynomials. Функция *roots_legendre* сразу же выдаст корни полиномов Лежандра, а также веса к их корням (для полиномов Лежандра все эти веса равны единице)."
   ]
  },
  {
   "cell_type": "markdown",
   "metadata": {},
   "source": [
    "###  Задание 1.1"
   ]
  },
  {
   "cell_type": "markdown",
   "metadata": {},
   "source": [
    "1. Посчитайте точное значение интеграла ([1](#mjx-eqn-eq1)) \"руками\". Сравните его с полученным численным значением."
   ]
  },
  {
   "cell_type": "code",
   "execution_count": 9,
   "metadata": {},
   "outputs": [],
   "source": [
    "import numpy as np\n",
    "from scipy.special import roots_legendre"
   ]
  },
  {
   "cell_type": "code",
   "execution_count": 7,
   "metadata": {},
   "outputs": [
    {
     "name": "stdout",
     "output_type": "stream",
     "text": [
      "0.6666666666666666\n"
     ]
    }
   ],
   "source": [
    "hands = 2 / 3\n",
    "print(hands)"
   ]
  },
  {
   "cell_type": "markdown",
   "metadata": {},
   "source": [
    "2. Посчитайте значение интеграла ([1](#mjx-eqn-eq1)), используя обычный метод интегрирования на равномерной сетке (например, написанный вами в week_6_calculus). Оцените количество узлов, необходимых для достижения относительной точности $10^{-10}$."
   ]
  },
  {
   "cell_type": "code",
   "execution_count": 4,
   "metadata": {},
   "outputs": [
    {
     "name": "stdout",
     "output_type": "stream",
     "text": [
      "0.6666679999999995\n"
     ]
    }
   ],
   "source": [
    "def simple(x):\n",
    "    return 7*x**3 - 8*x**2 -3*x +3\n",
    "\n",
    "def integrate_rectangle(f, a, b, nsteps):\n",
    "    measure = (b - a) / nsteps\n",
    "    res = 0.\n",
    "    for i in range (0, nsteps):\n",
    "        res += f(a + i*measure + measure/2) * measure\n",
    "    return res\n",
    "\n",
    "def midpoint_rule(func, a, b, eps):\n",
    "    nsteps = 0\n",
    "    dis = 99999999\n",
    "    final = 0\n",
    "    while(dis>eps):\n",
    "        nsteps+=1\n",
    "        fir = integrate_rectangle(func, a, b, nsteps)\n",
    "        sec = integrate_rectangle(func, a, b, 2*nsteps)\n",
    "        dis = abs(fir-sec)\n",
    "    final = integrate_rectangle(func, a, b, nsteps)\n",
    "    return final\n",
    "a = -1\n",
    "b = 1\n",
    "eps=1e-6\n",
    "print(midpoint_rule(simple, a, b, eps))"
   ]
  },
  {
   "cell_type": "markdown",
   "metadata": {},
   "source": [
    "Точность взяла 1е-6, так как очень долго считает"
   ]
  },
  {
   "cell_type": "markdown",
   "metadata": {},
   "source": [
    "3. Посчитайте значение интеграла ([1](#mjx-eqn-eq1)), используя корни полинома Лежандра степени от 1 до 6 в качестве узлов (чтобы получить корни и веса используйте scipy.special.roots_legendre)"
   ]
  },
  {
   "cell_type": "code",
   "execution_count": 60,
   "metadata": {},
   "outputs": [],
   "source": [
    "def f1(x):\n",
    "    return 7*x**3-8*x**2-3*x+3\n",
    "\n",
    "def integral(f, n):\n",
    "    roots, weights = roots_legendre(n)\n",
    "    return np.sum(f(roots)*weights)"
   ]
  },
  {
   "cell_type": "markdown",
   "metadata": {},
   "source": [
    "Сравните количество узлов, необходимых для достижения одинаковой точности в обоих чисенных методах.\n",
    "\n",
    "(20% итоговой оценки)"
   ]
  },
  {
   "cell_type": "code",
   "execution_count": 67,
   "metadata": {},
   "outputs": [],
   "source": [
    "def accurancy(f, eps):\n",
    "    n = 1\n",
    "    start = hands\n",
    "    while True:\n",
    "        n += 1\n",
    "        end = integral(f, n)\n",
    "        if abs(start-end)<eps:\n",
    "            break\n",
    "        start = end\n",
    "    return end, n"
   ]
  },
  {
   "cell_type": "code",
   "execution_count": 68,
   "metadata": {},
   "outputs": [
    {
     "name": "stdout",
     "output_type": "stream",
     "text": [
      "result = 0.6666666666666674 \n",
      "n = 2\n"
     ]
    }
   ],
   "source": [
    "result = accurancy(f1, 1e-10)\n",
    "print('result =', result[0], '\\nn =', result[1])"
   ]
  },
  {
   "cell_type": "markdown",
   "metadata": {},
   "source": [
    "###  Задание 1.2\n",
    "\n",
    "Вычислите значение того же интеграла, но на интервале от 0 до 10.\n",
    "\n",
    "$$\n",
    "\\int_{0}^{10} (7x^3 - 8 x^2 - 3 x + 3) dx \n",
    "$$\n",
    "\n",
    "Заметим, что больше нельзя использовать полиномы Лежанда, потому что они определены на интервале (-1, 1). Однако всегда можно произвести *аффинное преобразование* (преобразование не меняет область интегрирования) для того, чтобы перейти к желаемой системе координат.\n",
    "\n",
    "(20% итоговой оценки)"
   ]
  },
  {
   "cell_type": "code",
   "execution_count": 81,
   "metadata": {},
   "outputs": [],
   "source": [
    "def f2(x):\n",
    "    return 7*x**3-8*x**2-3*x+3\n",
    "#Меняем пределы интегрирования на -1, 1\n",
    "def func(subs, a, b, x):\n",
    "    return subs(( ( b - a ) / 2 ) * ( x + 1 + 2*a / (b - a) ) ) * ( b - a ) / 2"
   ]
  },
  {
   "cell_type": "code",
   "execution_count": 75,
   "metadata": {},
   "outputs": [],
   "source": [
    "def integral2(f, n):\n",
    "    roots, weights = roots_legendre(n)\n",
    "    return np.sum(func(f,0,10,roots)*weights)"
   ]
  },
  {
   "cell_type": "code",
   "execution_count": 76,
   "metadata": {},
   "outputs": [],
   "source": [
    "def accurancy2(f, eps):\n",
    "    n = 1\n",
    "    start = 44140 / 3\n",
    "    while True:\n",
    "        n += 1\n",
    "        end = integral2(f, n)\n",
    "        if abs(start-end)<eps:\n",
    "            break\n",
    "        start = end\n",
    "    return end, n"
   ]
  },
  {
   "cell_type": "code",
   "execution_count": 78,
   "metadata": {},
   "outputs": [
    {
     "name": "stdout",
     "output_type": "stream",
     "text": [
      "result = 14713.333333333336 \n",
      "n = 2\n"
     ]
    }
   ],
   "source": [
    "result = accurancy2(f2, 1e-10)\n",
    "print('result =', result[0], '\\nn =', result[1])"
   ]
  },
  {
   "cell_type": "markdown",
   "metadata": {},
   "source": [
    "Сравните результат с точным значением интеграла."
   ]
  },
  {
   "cell_type": "markdown",
   "metadata": {},
   "source": [
    "### Задание 1.3\n",
    "\n",
    "Вычислите значение следующиего интеграла:\n",
    "$$\n",
    "\\int_{0}^{2\\pi} \\frac{cos(x) dx }{\\sqrt{4\\pi^2 - x^2}}\n",
    "$$\n",
    "используя соответствующий базис ортогональных полиномов.\n",
    "Найдите степень полинома (количество узлов), при которой точность превысит ошибку плавающей точки.\n",
    "\n",
    "(20% итоговой оценки)"
   ]
  },
  {
   "cell_type": "markdown",
   "metadata": {},
   "source": [
    "Используем полиномы Чебышева (Chebyshev of first kind)"
   ]
  },
  {
   "cell_type": "code",
   "execution_count": 80,
   "metadata": {},
   "outputs": [
    {
     "name": "stdout",
     "output_type": "stream",
     "text": [
      "result = 0.34601015881226443 \n",
      "n = 17\n"
     ]
    }
   ],
   "source": [
    "from scipy.special import roots_chebyt\n",
    "\n",
    "def f3(x):\n",
    "    return np.cos(2 * np.pi * x) / 2\n",
    "\n",
    "def integral3(f, n):\n",
    "    roots, weights = roots_chebyt(n)\n",
    "    return np.sum(f(roots)*weights)\n",
    "\n",
    "def accurancy3(f):\n",
    "    n = 1\n",
    "    start = 0\n",
    "    while True:\n",
    "        n += 1\n",
    "        end = integral3(f, n)\n",
    "        if abs(start-end)==0:\n",
    "            break\n",
    "        start = end\n",
    "    return end, n\n",
    "result = accurancy3(f3)\n",
    "print('result =', result[0], '\\nn =', result[1])"
   ]
  },
  {
   "cell_type": "markdown",
   "metadata": {},
   "source": [
    "## Часть 2. Уравение Фредгольма\n",
    "\n",
    "Существует два типа уравнений Фредгольма: \n",
    "\n",
    "1. Уравение Фредгольма первого рода:\n",
    "$$\n",
    "\\int_a^b \\! K(x, t)\\, \\color{blue}{f(t)} \\,dt = g(x)\n",
    "$$\n",
    "\n",
    "2. Уравнение Фредгольма второго рода:\n",
    "$$\n",
    "\\lambda \\int_a^b\\! K(x, t)\\, \\color{blue}{f(t)} \\, dt + g(x) = \\color{blue}{f(x)}\n",
    "$$\n",
    "\n",
    "Здесь функция $f(x)$ неизвестна, $K(x, t)$ - ядро уравнения, заданная функция $g(x)$ и $\\lambda$ - рациональное число.\n",
    "С точки зрения вычислений, уравение Фредгольма первого рода крайне неустойчиво. Далее мы рассмотрим только уравнение второго рода."
   ]
  },
  {
   "cell_type": "markdown",
   "metadata": {},
   "source": [
    "Основная идея - аппроксимировать интеграл некой квадратурной формулой\n",
    "\n",
    "$$\n",
    "\\int_a^b \\! \\xi(t)\\, dt \\approx \\sum_j^N w_j\\, \\xi(t_j)\n",
    "$$\n",
    "\n",
    "с подходящими весами $w_j$ и узлами $t_j$, $j=1, \\dots, N$. Точность аппроксимации контролируется $N$."
   ]
  },
  {
   "cell_type": "markdown",
   "metadata": {},
   "source": [
    "Таким образом, уравнение Фредгольма приближается следующим образом:\n",
    "\n",
    "$$\n",
    "\\lambda \\sum_j w_j\\, K(x, t_j)\\, \\color{blue}{f(t_j)} + g(x) = \\color{blue}{f(x)}\n",
    "$$\n",
    "\n",
    "Отметим, что $x$ - непрерывная переменная, в то время, как $t$ - дискретная."
   ]
  },
  {
   "cell_type": "markdown",
   "metadata": {},
   "source": [
    "Оценивая данное уравнение на сетке $x = t_k$, получаем\n",
    "\n",
    "$$\n",
    "\\lambda \\sum_j w_j \\, K_{k, j}\\, \\color{blue}{f_j} + g_k = \\color{blue}{f_k}\n",
    "$$\n",
    "\n",
    "где $f_j \\equiv f(t_j)$, $g_j \\equiv g(t_j)$ and $K_{k, j} \\equiv K(t_k, t_j)$. Это ничто иное, как система линейных алгебраических уравнений на вектор $\\color{blue}{f_j}$.\n",
    "\n",
    "Ее решение выдает значение неизвестной функции $f(x)$ в дискретных точках $x=t_j$ для $j=1, \\dots, N$."
   ]
  },
  {
   "cell_type": "markdown",
   "metadata": {},
   "source": [
    "### Задание 2.1\n",
    "\n",
    "Решите предложенное уравнение Фредгольма второго рода\n",
    "\n",
    "$$\n",
    "f(x) = \\sin(\\pi x)  + \\frac{1}{2} \\int_0^1\\! f(t) \\, dt\n",
    "$$\n",
    "\n",
    "Здесь $a, b = 0, 1$, $\\lambda = \\dfrac{1}{2}$, ядро $K(x, t) = 1$ и правая часть - $g(x) = \\sin(\\pi x)$.\n",
    "\n",
    "Точное решение (Сборник задач по интегральным уравнениям, 2006, стр. 5):\n",
    "\n",
    "$$\n",
    "f(x) = \\sin(\\pi x) + \\frac{2}{\\pi}\n",
    "$$"
   ]
  },
  {
   "cell_type": "markdown",
   "metadata": {},
   "source": [
    "Для нахождения интеграла воспользуйтесь Гауссовой квадратурой с весовой функцией $w(x) = 1$ на $(0, 1)$. Посмотрите на http://dlmf.nist.gov/18.3, и найдите соответствующую функцию в *scipy.special* (обратите внимание на область интегрирования).\n",
    "\n",
    "Сравните полученные значения функции с точным решением для разных значений $N$. На каком $N$ можно остановиться?\n",
    "\n",
    "(20% итоговой оценки)"
   ]
  },
  {
   "cell_type": "code",
   "execution_count": 6,
   "metadata": {},
   "outputs": [],
   "source": [
    "import numpy as np\n",
    "from scipy.special import roots_sh_legendre\n",
    "import matplotlib.pyplot as plt"
   ]
  },
  {
   "cell_type": "code",
   "execution_count": 27,
   "metadata": {},
   "outputs": [
    {
     "name": "stdout",
     "output_type": "stream",
     "text": [
      "error: 0.0000000000\n"
     ]
    },
    {
     "data": {
      "image/png": "[encoded data removed]",
      "text/plain": [
       "<Figure size 648x432 with 1 Axes>"
      ]
     },
     "metadata": {
      "needs_background": "light"
     },
     "output_type": "display_data"
    }
   ],
   "source": [
    "def g(x):\n",
    "    return np.sin(np.pi * x)\n",
    "def sol(x):\n",
    "    return np.sin(np.pi * x) + 2 / np.pi\n",
    "lam = 1 / 2\n",
    "N = 1\n",
    "eps = 1e-10\n",
    "res = []\n",
    "err = []\n",
    "m_nodes = []\n",
    "while True:\n",
    "        N+=1\n",
    "        nodes, weights = roots_sh_legendre(N)\n",
    "        k = np.empty([N, N])\n",
    "        k[:] = weights\n",
    "        a = np.eye(N) - lam * k\n",
    "        res.append(np.linalg.solve(a, g(nodes)))\n",
    "        m_nodes.append(nodes)\n",
    "        err.append(np.linalg.norm(sol(nodes) - res[-1]))\n",
    "        if err[-1] < eps:\n",
    "            break\n",
    "        accuracy = err[-1]\n",
    "xlim = np.linspace(0, 1, 200)  \n",
    "plt.figure(figsize=(9,6))\n",
    "plt.plot(nodes, res[-1], 'o', label='Приближение')\n",
    "plt.plot(xlim, sol(xlim), '-', label='Настоящее решение')\n",
    "plt.legend()\n",
    "print('error: %.10f' % err[-1])"
   ]
  },
  {
   "cell_type": "markdown",
   "metadata": {},
   "source": [
    "### Задание 2.2\n",
    "\n",
    "Очевидной проблемой предыдущего результата для $f(x)$ является то, что он возвращает решения на фиксированном наборе точек. Мы не контролируем их точное расположение.\n",
    "\n",
    "1. Для начала, попробуйте интерполировать значения, полученные в предыдущем пункте на равномерной сетке длиной 50. Можете использовать любой метод интерполяции. Сравните интерполяцию с точным значением."
   ]
  },
  {
   "cell_type": "code",
   "execution_count": 33,
   "metadata": {},
   "outputs": [
    {
     "data": {
      "text/plain": [
       "<matplotlib.legend.Legend at 0x27e50c09f48>"
      ]
     },
     "execution_count": 33,
     "metadata": {},
     "output_type": "execute_result"
    },
    {
     "data": {
      "image/png": "[encoded data removed]",
      "text/plain": [
       "<Figure size 648x432 with 1 Axes>"
      ]
     },
     "metadata": {
      "needs_background": "light"
     },
     "output_type": "display_data"
    }
   ],
   "source": [
    "from scipy.interpolate import interp1d\n",
    "xlim = np.linspace(0, 1, 50)\n",
    "f = interp1d(nodes, y)\n",
    "plt.figure(figsize=(9,6))\n",
    "plt.plot(xlim, sol(xlim) , label='Настоящее решение')\n",
    "plt.plot(nodes, f(nodes), label='Интерполяция')\n",
    "plt.legend()"
   ]
  },
  {
   "cell_type": "markdown",
   "metadata": {},
   "source": [
    "2. Теперь используйте следующую формулу, чтобы вычислить значение функции на той же равномерной сетке.\n",
    "\n",
    "$$\n",
    "f(x) = g(x) + \\lambda \\sum_j^N w_j\\, K(x, t_j)\\, f(t_j)\n",
    "$$\n",
    "\n",
    "Сравните эту интерполяцию с точным значением, а также с прямым интерполяционным методом.\n",
    "\n",
    "(20% итогой оценки)"
   ]
  },
  {
   "cell_type": "code",
   "execution_count": 37,
   "metadata": {},
   "outputs": [
    {
     "data": {
      "text/plain": [
       "<matplotlib.legend.Legend at 0x27e50e71748>"
      ]
     },
     "execution_count": 37,
     "metadata": {},
     "output_type": "execute_result"
    },
    {
     "data": {
      "image/png": "[encoded data removed]",
      "text/plain": [
       "<Figure size 648x432 with 1 Axes>"
      ]
     },
     "metadata": {
      "needs_background": "light"
     },
     "output_type": "display_data"
    }
   ],
   "source": [
    "nodes, weights = roots_sh_legendre(N)\n",
    "def f(x):\n",
    "    return g(x) + lam * weights @ res[-1]\n",
    "plt.figure(figsize=(9,6))\n",
    "plt.plot(xlim, f(xlim), label='С помощью формулы')\n",
    "plt.plot(xlim, sol(xlim), label='Настоящее решение')\n",
    "plt.plot(nodes, f(nodes), label='Интерполяция')\n",
    "plt.legend()"
   ]
  },
  {
   "cell_type": "code",
   "execution_count": null,
   "metadata": {},
   "outputs": [],
   "source": []
  }
 ],
 "metadata": {
  "kernelspec": {
   "display_name": "Python 3",
   "language": "python",
   "name": "python3"
  },
  "language_info": {
   "codemirror_mode": {
    "name": "ipython",
    "version": 3
   },
   "file_extension": ".py",
   "mimetype": "text/x-python",
   "name": "python",
   "nbconvert_exporter": "python",
   "pygments_lexer": "ipython3",
   "version": "3.7.6"
  }
 },
 "nbformat": 4,
 "nbformat_minor": 4
}
